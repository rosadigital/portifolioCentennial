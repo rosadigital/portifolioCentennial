{
 "cells": [
  {
   "cell_type": "code",
   "execution_count": 9,
   "metadata": {},
   "outputs": [],
   "source": [
    "import requests\n",
    "import json\n",
    "\n",
    "# Base URL\n",
    "BASE_URL = 'http://localhost:8080/api'\n",
    "\n",
    "# Helper function to pretty-print JSON responses\n",
    "def print_response(response):\n",
    "    print(f\"Status Code: {response.status_code}\")\n",
    "    try:\n",
    "        print(json.dumps(response.json(), indent=2))\n",
    "    except ValueError:\n",
    "        print(response.text)\n",
    "\n",
    "# -------------------------------\n",
    "# CONTACTS API TESTS\n",
    "# -------------------------------\n",
    "\n",
    "# 1. Get all contacts\n",
    "def get_all_contacts():\n",
    "    url = f\"{BASE_URL}/contacts\"\n",
    "    response = requests.get(url)\n",
    "    print(\"GET all contacts:\")\n",
    "    print_response(response)\n",
    "\n",
    "# 2. Get contact by ID\n",
    "def get_contact_by_id(contact_id):\n",
    "    url = f\"{BASE_URL}/contacts/{contact_id}\"\n",
    "    response = requests.get(url)\n",
    "    print(f\"GET contact by ID ({contact_id}):\")\n",
    "    print_response(response)\n",
    "\n",
    "# 3. Create new contact\n",
    "def create_contact(firstname, lastname, email):\n",
    "    url = f\"{BASE_URL}/contacts\"\n",
    "    data = {\n",
    "        \"firstname\": firstname,\n",
    "        \"lastname\": lastname,\n",
    "        \"email\": email\n",
    "    }\n",
    "    response = requests.post(url, json=data)\n",
    "    print(\"POST new contact:\")\n",
    "    print_response(response)\n",
    "\n",
    "# 4. Update contact by ID\n",
    "def update_contact(contact_id, firstname, lastname, email):\n",
    "    url = f\"{BASE_URL}/contacts/{contact_id}\"\n",
    "    data = {\n",
    "        \"firstname\": firstname,\n",
    "        \"lastname\": lastname,\n",
    "        \"email\": email\n",
    "    }\n",
    "    response = requests.put(url, json=data)\n",
    "    print(f\"PUT update contact by ID ({contact_id}):\")\n",
    "    print_response(response)\n",
    "\n",
    "# 5. Delete contact by ID\n",
    "def delete_contact_by_id(contact_id):\n",
    "    url = f\"{BASE_URL}/contacts/{contact_id}\"\n",
    "    response = requests.delete(url)\n",
    "    print(f\"DELETE contact by ID ({contact_id}):\")\n",
    "    print_response(response)\n",
    "\n",
    "# 6. Delete all contacts\n",
    "def delete_all_contacts():\n",
    "    url = f\"{BASE_URL}/contacts\"\n",
    "    response = requests.delete(url)\n",
    "    print(\"DELETE all contacts:\")\n",
    "    print_response(response)\n",
    "\n",
    "\n",
    "# -------------------------------\n",
    "# USERS API TESTS\n",
    "# -------------------------------\n",
    "\n",
    "# 1. Get all users\n",
    "def get_all_users():\n",
    "    url = f\"{BASE_URL}/users\"\n",
    "    response = requests.get(url)\n",
    "    print(\"GET all users:\")\n",
    "    print_response(response)\n",
    "\n",
    "# 2. Get user by ID\n",
    "def get_user_by_id(user_id):\n",
    "    url = f\"{BASE_URL}/users/{user_id}\"\n",
    "    response = requests.get(url)\n",
    "    print(f\"GET user by ID ({user_id}):\")\n",
    "    print_response(response)\n",
    "\n",
    "# 3. Create new user\n",
    "def create_user(name, email, password):\n",
    "    url = f\"{BASE_URL}/users\"\n",
    "    data = {\n",
    "        \"name\": name,\n",
    "        \"email\": email,\n",
    "        \"password\": password\n",
    "    }\n",
    "    response = requests.post(url, json=data)\n",
    "    print(\"POST new user:\")\n",
    "    print_response(response)\n",
    "\n",
    "# 4. Update user by ID\n",
    "def update_user(user_id, name, email, password):\n",
    "    url = f\"{BASE_URL}/users/{user_id}\"\n",
    "    data = {\n",
    "        \"name\": name,\n",
    "        \"email\": email,\n",
    "        \"password\": password\n",
    "    }\n",
    "    response = requests.put(url, json=data)\n",
    "    print(f\"PUT update user by ID ({user_id}):\")\n",
    "    print_response(response)\n",
    "\n",
    "# 5. Delete user by ID\n",
    "def delete_user_by_id(user_id):\n",
    "    url = f\"{BASE_URL}/users/{user_id}\"\n",
    "    response = requests.delete(url)\n",
    "    print(f\"DELETE user by ID ({user_id}):\")\n",
    "    print_response(response)\n",
    "\n",
    "# 6. Delete all users\n",
    "def delete_all_users():\n",
    "    url = f\"{BASE_URL}/users\"\n",
    "    response = requests.delete(url)\n",
    "    print(\"DELETE all users:\")\n",
    "    print_response(response)"
   ]
  },
  {
   "cell_type": "code",
   "execution_count": 10,
   "metadata": {},
   "outputs": [
    {
     "name": "stdout",
     "output_type": "stream",
     "text": [
      "POST new contact:\n",
      "Status Code: 201\n",
      "{\n",
      "  \"firstname\": \"Alice\",\n",
      "  \"lastname\": \"Smith\",\n",
      "  \"email\": \"alice.smith@example.com\",\n",
      "  \"_id\": \"6712bbf7c4644c3ebecfd2f2\",\n",
      "  \"__v\": 0\n",
      "}\n",
      "POST new contact:\n",
      "Status Code: 201\n",
      "{\n",
      "  \"firstname\": \"Felipe\",\n",
      "  \"lastname\": \"Rosa\",\n",
      "  \"email\": \"fr@example.com\",\n",
      "  \"_id\": \"6712bbf7c4644c3ebecfd2f4\",\n",
      "  \"__v\": 0\n",
      "}\n",
      "POST new contact:\n",
      "Status Code: 201\n",
      "{\n",
      "  \"firstname\": \"Samuel\",\n",
      "  \"lastname\": \"Rosa\",\n",
      "  \"email\": \"sr@example.com\",\n",
      "  \"_id\": \"6712bbf7c4644c3ebecfd2f6\",\n",
      "  \"__v\": 0\n",
      "}\n",
      "POST new contact:\n",
      "Status Code: 201\n",
      "{\n",
      "  \"firstname\": \"Joseph\",\n",
      "  \"lastname\": \"Rosa\",\n",
      "  \"email\": \"jr@example.com\",\n",
      "  \"_id\": \"6712bbf7c4644c3ebecfd2f8\",\n",
      "  \"__v\": 0\n",
      "}\n"
     ]
    }
   ],
   "source": [
    "# Create a new contact\n",
    "create_contact(\"Alice\", \"Smith\", \"alice.smith@example.com\")\n",
    "create_contact(\"Felipe\", \"Rosa\", \"fr@example.com\")\n",
    "create_contact(\"Samuel\", \"Rosa\", \"sr@example.com\")\n",
    "create_contact(\"Joseph\", \"Rosa\", \"jr@example.com\")\n"
   ]
  },
  {
   "cell_type": "code",
   "execution_count": 14,
   "metadata": {},
   "outputs": [
    {
     "name": "stdout",
     "output_type": "stream",
     "text": [
      "GET all contacts:\n",
      "Status Code: 200\n",
      "[\n",
      "  {\n",
      "    \"_id\": \"6712bbf7c4644c3ebecfd2f2\",\n",
      "    \"firstname\": \"Alice\",\n",
      "    \"lastname\": \"Smith\",\n",
      "    \"email\": \"alice.smith@example.com\",\n",
      "    \"__v\": 0\n",
      "  },\n",
      "  {\n",
      "    \"_id\": \"6712bbf7c4644c3ebecfd2f4\",\n",
      "    \"firstname\": \"Felipe\",\n",
      "    \"lastname\": \"Rosa\",\n",
      "    \"email\": \"fr@example.com\",\n",
      "    \"__v\": 0\n",
      "  },\n",
      "  {\n",
      "    \"_id\": \"6712bbf7c4644c3ebecfd2f6\",\n",
      "    \"firstname\": \"Alice\",\n",
      "    \"lastname\": \"Brownes\",\n",
      "    \"email\": \"alice.brownes@example.com\",\n",
      "    \"__v\": 0\n",
      "  },\n",
      "  {\n",
      "    \"_id\": \"6712bbf7c4644c3ebecfd2f8\",\n",
      "    \"firstname\": \"Joseph\",\n",
      "    \"lastname\": \"Rosa\",\n",
      "    \"email\": \"jr@example.com\",\n",
      "    \"__v\": 0\n",
      "  }\n",
      "]\n"
     ]
    }
   ],
   "source": [
    "# Get all contacts\n",
    "get_all_contacts()"
   ]
  },
  {
   "cell_type": "code",
   "execution_count": 13,
   "metadata": {},
   "outputs": [
    {
     "name": "stdout",
     "output_type": "stream",
     "text": [
      "PUT update contact by ID (6712bbf7c4644c3ebecfd2f6):\n",
      "Status Code: 200\n",
      "{\n",
      "  \"_id\": \"6712bbf7c4644c3ebecfd2f6\",\n",
      "  \"firstname\": \"Alice\",\n",
      "  \"lastname\": \"Brownes\",\n",
      "  \"email\": \"alice.brownes@example.com\",\n",
      "  \"__v\": 0\n",
      "}\n"
     ]
    }
   ],
   "source": [
    "# Assuming we have a contact ID from the previous test, update it\n",
    "contact_id = \"6712bbf7c4644c3ebecfd2f6\"\n",
    "update_contact(contact_id, \"Alice\", \"Brownes\", \"alice.brownes@example.com\")"
   ]
  },
  {
   "cell_type": "code",
   "execution_count": 16,
   "metadata": {},
   "outputs": [
    {
     "name": "stdout",
     "output_type": "stream",
     "text": [
      "GET contact by ID (6712bbf7c4644c3ebecfd2f6):\n",
      "Status Code: 200\n",
      "{\n",
      "  \"_id\": \"6712bbf7c4644c3ebecfd2f6\",\n",
      "  \"firstname\": \"Alice\",\n",
      "  \"lastname\": \"Brownes\",\n",
      "  \"email\": \"alice.brownes@example.com\",\n",
      "  \"__v\": 0\n",
      "}\n"
     ]
    }
   ],
   "source": [
    "# Get a contact by ID\n",
    "contact_id = \"6712bbf7c4644c3ebecfd2f6\"\n",
    "get_contact_by_id(contact_id)"
   ]
  },
  {
   "cell_type": "code",
   "execution_count": 17,
   "metadata": {},
   "outputs": [
    {
     "name": "stdout",
     "output_type": "stream",
     "text": [
      "DELETE contact by ID (6712bbf7c4644c3ebecfd2f6):\n",
      "Status Code: 200\n",
      "{\n",
      "  \"message\": \"Contact deleted successfully\"\n",
      "}\n",
      "GET contact by ID (6712bbf7c4644c3ebecfd2f6):\n",
      "Status Code: 404\n",
      "{\n",
      "  \"message\": \"Contact not found\"\n",
      "}\n"
     ]
    }
   ],
   "source": [
    "# Delete a contact by ID\n",
    "contact_id = \"6712bbf7c4644c3ebecfd2f6\"\n",
    "delete_contact_by_id(contact_id)\n",
    "get_contact_by_id(contact_id)"
   ]
  },
  {
   "cell_type": "code",
   "execution_count": null,
   "metadata": {},
   "outputs": [],
   "source": [
    "# Delete all contacts\n",
    "delete_all_contacts()\n",
    "\n",
    "print(\"\\nTesting Users API\")\n",
    "\n",
    "\n"
   ]
  },
  {
   "cell_type": "code",
   "execution_count": 18,
   "metadata": {},
   "outputs": [
    {
     "name": "stdout",
     "output_type": "stream",
     "text": [
      "POST new user:\n",
      "Status Code: 201\n",
      "{\n",
      "  \"name\": \"John Doe\",\n",
      "  \"email\": \"john.doe@example.com\",\n",
      "  \"password\": \"password123\",\n",
      "  \"_id\": \"6712be02c4644c3ebecfd301\",\n",
      "  \"created\": \"2024-10-18T19:58:58.546Z\",\n",
      "  \"updated\": \"2024-10-18T19:58:58.546Z\",\n",
      "  \"__v\": 0\n",
      "}\n"
     ]
    }
   ],
   "source": [
    "# Create a new user\n",
    "create_user(\"John Doe\", \"john.doe@example.com\", \"password123\")"
   ]
  },
  {
   "cell_type": "code",
   "execution_count": 19,
   "metadata": {},
   "outputs": [
    {
     "name": "stdout",
     "output_type": "stream",
     "text": [
      "GET all users:\n",
      "Status Code: 200\n",
      "[\n",
      "  {\n",
      "    \"_id\": \"6712be02c4644c3ebecfd301\",\n",
      "    \"name\": \"John Doe\",\n",
      "    \"email\": \"john.doe@example.com\",\n",
      "    \"password\": \"password123\",\n",
      "    \"created\": \"2024-10-18T19:58:58.546Z\",\n",
      "    \"updated\": \"2024-10-18T19:58:58.546Z\",\n",
      "    \"__v\": 0\n",
      "  }\n",
      "]\n"
     ]
    }
   ],
   "source": [
    "# Get all users\n",
    "get_all_users()"
   ]
  },
  {
   "cell_type": "code",
   "execution_count": 20,
   "metadata": {},
   "outputs": [
    {
     "name": "stdout",
     "output_type": "stream",
     "text": [
      "PUT update user by ID (6712be02c4644c3ebecfd301):\n",
      "Status Code: 200\n",
      "{\n",
      "  \"_id\": \"6712be02c4644c3ebecfd301\",\n",
      "  \"name\": \"Johnathan Doe\",\n",
      "  \"email\": \"john.doe@example.com\",\n",
      "  \"password\": \"newpassword123\",\n",
      "  \"created\": \"2024-10-18T19:58:58.546Z\",\n",
      "  \"updated\": \"2024-10-18T19:58:58.546Z\",\n",
      "  \"__v\": 0\n",
      "}\n"
     ]
    }
   ],
   "source": [
    "# Updating user\n",
    "user_id = \"6712be02c4644c3ebecfd301\"\n",
    "update_user(user_id, \"Johnathan Doe\", \"john.doe@example.com\", \"newpassword123\")"
   ]
  },
  {
   "cell_type": "code",
   "execution_count": 21,
   "metadata": {},
   "outputs": [
    {
     "name": "stdout",
     "output_type": "stream",
     "text": [
      "GET user by ID (6712be02c4644c3ebecfd301):\n",
      "Status Code: 200\n",
      "{\n",
      "  \"_id\": \"6712be02c4644c3ebecfd301\",\n",
      "  \"name\": \"Johnathan Doe\",\n",
      "  \"email\": \"john.doe@example.com\",\n",
      "  \"password\": \"newpassword123\",\n",
      "  \"created\": \"2024-10-18T19:58:58.546Z\",\n",
      "  \"updated\": \"2024-10-18T19:58:58.546Z\",\n",
      "  \"__v\": 0\n",
      "}\n"
     ]
    }
   ],
   "source": [
    "# Get a user by ID\n",
    "user_id = \"6712be02c4644c3ebecfd301\"\n",
    "get_user_by_id(user_id)"
   ]
  },
  {
   "cell_type": "code",
   "execution_count": 22,
   "metadata": {},
   "outputs": [
    {
     "name": "stdout",
     "output_type": "stream",
     "text": [
      "DELETE user by ID (6712be02c4644c3ebecfd301):\n",
      "Status Code: 200\n",
      "{\n",
      "  \"message\": \"User deleted successfully\"\n",
      "}\n",
      "GET user by ID (6712be02c4644c3ebecfd301):\n",
      "Status Code: 404\n",
      "{\n",
      "  \"message\": \"User not found\"\n",
      "}\n"
     ]
    }
   ],
   "source": [
    "# Delete a user by ID\n",
    "user_id = \"6712be02c4644c3ebecfd301\"\n",
    "delete_user_by_id(user_id)\n",
    "get_user_by_id(user_id)"
   ]
  },
  {
   "cell_type": "code",
   "execution_count": null,
   "metadata": {},
   "outputs": [],
   "source": [
    "\n",
    "\n",
    "# Delete all users\n",
    "delete_all_users()"
   ]
  }
 ],
 "metadata": {
  "kernelspec": {
   "display_name": ".venv",
   "language": "python",
   "name": "python3"
  },
  "language_info": {
   "codemirror_mode": {
    "name": "ipython",
    "version": 3
   },
   "file_extension": ".py",
   "mimetype": "text/x-python",
   "name": "python",
   "nbconvert_exporter": "python",
   "pygments_lexer": "ipython3",
   "version": "3.11.4"
  }
 },
 "nbformat": 4,
 "nbformat_minor": 2
}
